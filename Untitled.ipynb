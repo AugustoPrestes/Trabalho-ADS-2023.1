{
 "cells": [
  {
   "cell_type": "markdown",
   "id": "cd19aa28",
   "metadata": {},
   "source": [
    "### Ativando o Ambiente de desenvolvimento utilizado no projeto"
   ]
  },
  {
   "cell_type": "code",
   "execution_count": 1,
   "id": "8d7ee9ae",
   "metadata": {},
   "outputs": [],
   "source": [
    "!conda activate ads-iot"
   ]
  },
  {
   "cell_type": "markdown",
   "id": "f63ed7a7",
   "metadata": {},
   "source": [
    "### Configurando as bibliotecas utilizadas"
   ]
  },
  {
   "cell_type": "code",
   "execution_count": 2,
   "id": "c07c9567",
   "metadata": {},
   "outputs": [],
   "source": [
    "import pandas as pd\n",
    "import basedosdados as bd"
   ]
  },
  {
   "cell_type": "markdown",
   "id": "9527e2bb",
   "metadata": {},
   "source": [
    "### Recebendo os dados da fonte \"Base dos Dados\""
   ]
  },
  {
   "cell_type": "code",
   "execution_count": 4,
   "id": "4f1b9ca1",
   "metadata": {},
   "outputs": [
    {
     "name": "stderr",
     "output_type": "stream",
     "text": [
      "Downloading: 100%|██████████| 1000/1000 [00:00<00:00, 1295.53rows/s]\n"
     ]
    }
   ],
   "source": [
    "df = bd.read_table(dataset_id='br_tse_eleicoes',\n",
    "                   table_id='despesas_candidato',\n",
    "                   billing_project_id='eleicoes-380622',\n",
    "                   limit=1000)"
   ]
  },
  {
   "cell_type": "code",
   "execution_count": 19,
   "id": "87f9f5d4",
   "metadata": {},
   "outputs": [
    {
     "data": {
      "text/plain": [
       "<pandas.core.groupby.generic.DataFrameGroupBy object at 0x00000298CE12CCD0>"
      ]
     },
     "execution_count": 19,
     "metadata": {},
     "output_type": "execute_result"
    }
   ],
   "source": [
    "df.groupby(by=df['nome_candidato'])"
   ]
  },
  {
   "cell_type": "code",
   "execution_count": 18,
   "id": "b9e0423b",
   "metadata": {},
   "outputs": [
    {
     "data": {
      "text/plain": [
       "<pandas.core.groupby.generic.DataFrameGroupBy object at 0x00000298CE12C400>"
      ]
     },
     "metadata": {},
     "output_type": "display_data"
    }
   ],
   "source": [
    "display(df_somado)"
   ]
  }
 ],
 "metadata": {
  "kernelspec": {
   "display_name": "Python 3 (ipykernel)",
   "language": "python",
   "name": "python3"
  },
  "language_info": {
   "codemirror_mode": {
    "name": "ipython",
    "version": 3
   },
   "file_extension": ".py",
   "mimetype": "text/x-python",
   "name": "python",
   "nbconvert_exporter": "python",
   "pygments_lexer": "ipython3",
   "version": "3.10.9"
  }
 },
 "nbformat": 4,
 "nbformat_minor": 5
}
